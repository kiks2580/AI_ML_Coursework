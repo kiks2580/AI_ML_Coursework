{
 "cells": [
  {
   "cell_type": "markdown",
   "metadata": {
    "id": "CcUT6Fon_qRE"
   },
   "source": [
    "### Required Assignment 5.1: Will the Customer Accept the Coupon?\n",
    "\n",
    "**Context**\n",
    "\n",
    "Imagine driving through town and a coupon is delivered to your cell phone for a restaurant near where you are driving. Would you accept that coupon and take a short detour to the restaurant? Would you accept the coupon but use it on a subsequent trip? Would you ignore the coupon entirely? What if the coupon was for a bar instead of a restaurant? What about a coffee house? Would you accept a bar coupon with a minor passenger in the car? What about if it was just you and your partner in the car? Would weather impact the rate of acceptance? What about the time of day?\n",
    "\n",
    "Obviously, proximity to the business is a factor on whether the coupon is delivered to the driver or not, but what are the factors that determine whether a driver accepts the coupon once it is delivered to them? How would you determine whether a driver is likely to accept a coupon?\n",
    "\n",
    "**Overview**\n",
    "\n",
    "The goal of this project is to use what you know about visualizations and probability distributions to distinguish between customers who accepted a driving coupon versus those that did not.\n",
    "\n",
    "**Data**\n",
    "\n",
    "This data comes to us from the UCI Machine Learning repository and was collected via a survey on Amazon Mechanical Turk. The survey describes different driving scenarios including the destination, current time, weather, passenger, etc., and then ask the person whether he will accept the coupon if he is the driver. Answers that the user will drive there ‘right away’ or ‘later before the coupon expires’ are labeled as ‘Y = 1’ and answers ‘no, I do not want the coupon’ are labeled as ‘Y = 0’.  There are five different types of coupons -- less expensive restaurants (under \\$20), coffee houses, carry out & take away, bar, and more expensive restaurants (\\$20 - $50)."
   ]
  },
  {
   "cell_type": "markdown",
   "metadata": {
    "id": "1wORvMBJ_qRF"
   },
   "source": [
    "**Deliverables**\n",
    "\n",
    "Your final product should be a brief report that highlights the differences between customers who did and did not accept the coupons.  To explore the data you will utilize your knowledge of plotting, statistical summaries, and visualization using Python. You will publish your findings in a public facing github repository as your first portfolio piece.\n",
    "\n",
    "\n",
    "\n"
   ]
  },
  {
   "cell_type": "markdown",
   "metadata": {
    "id": "pG6_Ym6q_qRG"
   },
   "source": [
    "### Data Description\n",
    "Keep in mind that these values mentioned below are average values.\n",
    "\n",
    "The attributes of this data set include:\n",
    "1. User attributes\n",
    "    -  Gender: male, female\n",
    "    -  Age: below 21, 21 to 25, 26 to 30, etc.\n",
    "    -  Marital Status: single, married partner, unmarried partner, or widowed\n",
    "    -  Number of children: 0, 1, or more than 1\n",
    "    -  Education: high school, bachelors degree, associates degree, or graduate degree\n",
    "    -  Occupation: architecture & engineering, business & financial, etc.\n",
    "    -  Annual income: less than \\\\$12500, \\\\$12500 - \\\\$24999, \\\\$25000 - \\\\$37499, etc.\n",
    "    -  Number of times that he/she goes to a bar: 0, less than 1, 1 to 3, 4 to 8 or greater than 8\n",
    "    -  Number of times that he/she buys takeaway food: 0, less than 1, 1 to 3, 4 to 8 or greater\n",
    "    than 8\n",
    "    -  Number of times that he/she goes to a coffee house: 0, less than 1, 1 to 3, 4 to 8 or\n",
    "    greater than 8\n",
    "    -  Number of times that he/she eats at a restaurant with average expense less than \\\\$20 per\n",
    "    person: 0, less than 1, 1 to 3, 4 to 8 or greater than 8\n",
    "    -  Number of times that he/she goes to a bar: 0, less than 1, 1 to 3, 4 to 8 or greater than 8\n",
    "    \n",
    "\n",
    "2. Contextual attributes\n",
    "    - Driving destination: home, work, or no urgent destination\n",
    "    - Location of user, coupon and destination: we provide a map to show the geographical\n",
    "    location of the user, destination, and the venue, and we mark the distance between each\n",
    "    two places with time of driving. The user can see whether the venue is in the same\n",
    "    direction as the destination.\n",
    "    - Weather: sunny, rainy, or snowy\n",
    "    - Temperature: 30F, 55F, or 80F\n",
    "    - Time: 10AM, 2PM, or 6PM\n",
    "    - Passenger: alone, partner, kid(s), or friend(s)\n",
    "\n",
    "\n",
    "3. Coupon attributes\n",
    "    - time before it expires: 2 hours or one day"
   ]
  },
  {
   "cell_type": "code",
   "execution_count": 550,
   "metadata": {
    "id": "dzNoP3o__qRG"
   },
   "outputs": [],
   "source": [
    "import matplotlib.pyplot as plt\n",
    "import seaborn as sns\n",
    "import pandas as pd\n",
    "import numpy as np"
   ]
  },
  {
   "cell_type": "markdown",
   "metadata": {
    "id": "Ct8pI1uE_qRG"
   },
   "source": [
    "### Problems\n",
    "\n",
    "Use the prompts below to get started with your data analysis.  \n",
    "\n",
    "1. Read in the `coupons.csv` file.\n",
    "\n",
    "\n"
   ]
  },
  {
   "cell_type": "code",
   "execution_count": 553,
   "metadata": {
    "id": "X0vbffYg_qRH"
   },
   "outputs": [],
   "source": [
    "data = pd.read_csv('data/coupons.csv')"
   ]
  },
  {
   "cell_type": "code",
   "execution_count": 555,
   "metadata": {
    "id": "TXofQ_DF_qRH",
    "outputId": "2fc96a2c-1112-4b54-f24f-dbb9bc88abfb"
   },
   "outputs": [
    {
     "data": {
      "text/html": [
       "<div>\n",
       "<style scoped>\n",
       "    .dataframe tbody tr th:only-of-type {\n",
       "        vertical-align: middle;\n",
       "    }\n",
       "\n",
       "    .dataframe tbody tr th {\n",
       "        vertical-align: top;\n",
       "    }\n",
       "\n",
       "    .dataframe thead th {\n",
       "        text-align: right;\n",
       "    }\n",
       "</style>\n",
       "<table border=\"1\" class=\"dataframe\">\n",
       "  <thead>\n",
       "    <tr style=\"text-align: right;\">\n",
       "      <th></th>\n",
       "      <th>destination</th>\n",
       "      <th>passanger</th>\n",
       "      <th>weather</th>\n",
       "      <th>temperature</th>\n",
       "      <th>time</th>\n",
       "      <th>coupon</th>\n",
       "      <th>expiration</th>\n",
       "      <th>gender</th>\n",
       "      <th>age</th>\n",
       "      <th>maritalStatus</th>\n",
       "      <th>...</th>\n",
       "      <th>CoffeeHouse</th>\n",
       "      <th>CarryAway</th>\n",
       "      <th>RestaurantLessThan20</th>\n",
       "      <th>Restaurant20To50</th>\n",
       "      <th>toCoupon_GEQ5min</th>\n",
       "      <th>toCoupon_GEQ15min</th>\n",
       "      <th>toCoupon_GEQ25min</th>\n",
       "      <th>direction_same</th>\n",
       "      <th>direction_opp</th>\n",
       "      <th>Y</th>\n",
       "    </tr>\n",
       "  </thead>\n",
       "  <tbody>\n",
       "    <tr>\n",
       "      <th>0</th>\n",
       "      <td>No Urgent Place</td>\n",
       "      <td>Alone</td>\n",
       "      <td>Sunny</td>\n",
       "      <td>55</td>\n",
       "      <td>2PM</td>\n",
       "      <td>Restaurant(&lt;20)</td>\n",
       "      <td>1d</td>\n",
       "      <td>Female</td>\n",
       "      <td>21</td>\n",
       "      <td>Unmarried partner</td>\n",
       "      <td>...</td>\n",
       "      <td>never</td>\n",
       "      <td>NaN</td>\n",
       "      <td>4~8</td>\n",
       "      <td>1~3</td>\n",
       "      <td>1</td>\n",
       "      <td>0</td>\n",
       "      <td>0</td>\n",
       "      <td>0</td>\n",
       "      <td>1</td>\n",
       "      <td>1</td>\n",
       "    </tr>\n",
       "    <tr>\n",
       "      <th>1</th>\n",
       "      <td>No Urgent Place</td>\n",
       "      <td>Friend(s)</td>\n",
       "      <td>Sunny</td>\n",
       "      <td>80</td>\n",
       "      <td>10AM</td>\n",
       "      <td>Coffee House</td>\n",
       "      <td>2h</td>\n",
       "      <td>Female</td>\n",
       "      <td>21</td>\n",
       "      <td>Unmarried partner</td>\n",
       "      <td>...</td>\n",
       "      <td>never</td>\n",
       "      <td>NaN</td>\n",
       "      <td>4~8</td>\n",
       "      <td>1~3</td>\n",
       "      <td>1</td>\n",
       "      <td>0</td>\n",
       "      <td>0</td>\n",
       "      <td>0</td>\n",
       "      <td>1</td>\n",
       "      <td>0</td>\n",
       "    </tr>\n",
       "    <tr>\n",
       "      <th>2</th>\n",
       "      <td>No Urgent Place</td>\n",
       "      <td>Friend(s)</td>\n",
       "      <td>Sunny</td>\n",
       "      <td>80</td>\n",
       "      <td>10AM</td>\n",
       "      <td>Carry out &amp; Take away</td>\n",
       "      <td>2h</td>\n",
       "      <td>Female</td>\n",
       "      <td>21</td>\n",
       "      <td>Unmarried partner</td>\n",
       "      <td>...</td>\n",
       "      <td>never</td>\n",
       "      <td>NaN</td>\n",
       "      <td>4~8</td>\n",
       "      <td>1~3</td>\n",
       "      <td>1</td>\n",
       "      <td>1</td>\n",
       "      <td>0</td>\n",
       "      <td>0</td>\n",
       "      <td>1</td>\n",
       "      <td>1</td>\n",
       "    </tr>\n",
       "    <tr>\n",
       "      <th>3</th>\n",
       "      <td>No Urgent Place</td>\n",
       "      <td>Friend(s)</td>\n",
       "      <td>Sunny</td>\n",
       "      <td>80</td>\n",
       "      <td>2PM</td>\n",
       "      <td>Coffee House</td>\n",
       "      <td>2h</td>\n",
       "      <td>Female</td>\n",
       "      <td>21</td>\n",
       "      <td>Unmarried partner</td>\n",
       "      <td>...</td>\n",
       "      <td>never</td>\n",
       "      <td>NaN</td>\n",
       "      <td>4~8</td>\n",
       "      <td>1~3</td>\n",
       "      <td>1</td>\n",
       "      <td>1</td>\n",
       "      <td>0</td>\n",
       "      <td>0</td>\n",
       "      <td>1</td>\n",
       "      <td>0</td>\n",
       "    </tr>\n",
       "    <tr>\n",
       "      <th>4</th>\n",
       "      <td>No Urgent Place</td>\n",
       "      <td>Friend(s)</td>\n",
       "      <td>Sunny</td>\n",
       "      <td>80</td>\n",
       "      <td>2PM</td>\n",
       "      <td>Coffee House</td>\n",
       "      <td>1d</td>\n",
       "      <td>Female</td>\n",
       "      <td>21</td>\n",
       "      <td>Unmarried partner</td>\n",
       "      <td>...</td>\n",
       "      <td>never</td>\n",
       "      <td>NaN</td>\n",
       "      <td>4~8</td>\n",
       "      <td>1~3</td>\n",
       "      <td>1</td>\n",
       "      <td>1</td>\n",
       "      <td>0</td>\n",
       "      <td>0</td>\n",
       "      <td>1</td>\n",
       "      <td>0</td>\n",
       "    </tr>\n",
       "  </tbody>\n",
       "</table>\n",
       "<p>5 rows × 26 columns</p>\n",
       "</div>"
      ],
      "text/plain": [
       "       destination  passanger weather  temperature  time  \\\n",
       "0  No Urgent Place      Alone   Sunny           55   2PM   \n",
       "1  No Urgent Place  Friend(s)   Sunny           80  10AM   \n",
       "2  No Urgent Place  Friend(s)   Sunny           80  10AM   \n",
       "3  No Urgent Place  Friend(s)   Sunny           80   2PM   \n",
       "4  No Urgent Place  Friend(s)   Sunny           80   2PM   \n",
       "\n",
       "                  coupon expiration  gender age      maritalStatus  ...  \\\n",
       "0        Restaurant(<20)         1d  Female  21  Unmarried partner  ...   \n",
       "1           Coffee House         2h  Female  21  Unmarried partner  ...   \n",
       "2  Carry out & Take away         2h  Female  21  Unmarried partner  ...   \n",
       "3           Coffee House         2h  Female  21  Unmarried partner  ...   \n",
       "4           Coffee House         1d  Female  21  Unmarried partner  ...   \n",
       "\n",
       "   CoffeeHouse CarryAway RestaurantLessThan20 Restaurant20To50  \\\n",
       "0        never       NaN                  4~8              1~3   \n",
       "1        never       NaN                  4~8              1~3   \n",
       "2        never       NaN                  4~8              1~3   \n",
       "3        never       NaN                  4~8              1~3   \n",
       "4        never       NaN                  4~8              1~3   \n",
       "\n",
       "  toCoupon_GEQ5min toCoupon_GEQ15min toCoupon_GEQ25min direction_same  \\\n",
       "0                1                 0                 0              0   \n",
       "1                1                 0                 0              0   \n",
       "2                1                 1                 0              0   \n",
       "3                1                 1                 0              0   \n",
       "4                1                 1                 0              0   \n",
       "\n",
       "  direction_opp  Y  \n",
       "0             1  1  \n",
       "1             1  0  \n",
       "2             1  1  \n",
       "3             1  0  \n",
       "4             1  0  \n",
       "\n",
       "[5 rows x 26 columns]"
      ]
     },
     "execution_count": 555,
     "metadata": {},
     "output_type": "execute_result"
    }
   ],
   "source": [
    "data.head(5)"
   ]
  },
  {
   "cell_type": "markdown",
   "metadata": {
    "id": "GcDs78ZH_qRH"
   },
   "source": [
    "2. Investigate the dataset for missing or problematic data."
   ]
  },
  {
   "cell_type": "code",
   "execution_count": 560,
   "metadata": {
    "id": "6CwL6oWj_qRH"
   },
   "outputs": [
    {
     "name": "stdout",
     "output_type": "stream",
     "text": [
      "<class 'pandas.core.frame.DataFrame'>\n",
      "RangeIndex: 12684 entries, 0 to 12683\n",
      "Data columns (total 26 columns):\n",
      " #   Column                Non-Null Count  Dtype \n",
      "---  ------                --------------  ----- \n",
      " 0   destination           12684 non-null  object\n",
      " 1   passanger             12684 non-null  object\n",
      " 2   weather               12684 non-null  object\n",
      " 3   temperature           12684 non-null  int64 \n",
      " 4   time                  12684 non-null  object\n",
      " 5   coupon                12684 non-null  object\n",
      " 6   expiration            12684 non-null  object\n",
      " 7   gender                12684 non-null  object\n",
      " 8   age                   12684 non-null  object\n",
      " 9   maritalStatus         12684 non-null  object\n",
      " 10  has_children          12684 non-null  int64 \n",
      " 11  education             12684 non-null  object\n",
      " 12  occupation            12684 non-null  object\n",
      " 13  income                12684 non-null  object\n",
      " 14  car                   108 non-null    object\n",
      " 15  Bar                   12577 non-null  object\n",
      " 16  CoffeeHouse           12467 non-null  object\n",
      " 17  CarryAway             12533 non-null  object\n",
      " 18  RestaurantLessThan20  12554 non-null  object\n",
      " 19  Restaurant20To50      12495 non-null  object\n",
      " 20  toCoupon_GEQ5min      12684 non-null  int64 \n",
      " 21  toCoupon_GEQ15min     12684 non-null  int64 \n",
      " 22  toCoupon_GEQ25min     12684 non-null  int64 \n",
      " 23  direction_same        12684 non-null  int64 \n",
      " 24  direction_opp         12684 non-null  int64 \n",
      " 25  Y                     12684 non-null  int64 \n",
      "dtypes: int64(8), object(18)\n",
      "memory usage: 2.5+ MB\n",
      "destination                 0\n",
      "passanger                   0\n",
      "weather                     0\n",
      "temperature                 0\n",
      "time                        0\n",
      "coupon                      0\n",
      "expiration                  0\n",
      "gender                      0\n",
      "age                         0\n",
      "maritalStatus               0\n",
      "has_children                0\n",
      "education                   0\n",
      "occupation                  0\n",
      "income                      0\n",
      "car                     12576\n",
      "Bar                       107\n",
      "CoffeeHouse               217\n",
      "CarryAway                 151\n",
      "RestaurantLessThan20      130\n",
      "Restaurant20To50          189\n",
      "toCoupon_GEQ5min            0\n",
      "toCoupon_GEQ15min           0\n",
      "toCoupon_GEQ25min           0\n",
      "direction_same              0\n",
      "direction_opp               0\n",
      "Y                           0\n",
      "dtype: int64\n",
      "Bar  \n",
      "never    5197\n",
      "less1    3482\n",
      "1~3      2473\n",
      "4~8      1076\n",
      "gt8       349\n",
      "Name: count, dtype: int64\n",
      "coupon               \n",
      "Coffee House             3996\n",
      "Restaurant(<20)          2786\n",
      "Carry out & Take away    2393\n",
      "Bar                      2017\n",
      "Restaurant(20-50)        1492\n",
      "Name: count, dtype: int64\n",
      "car                                     \n",
      "Mazda5                                      22\n",
      "Scooter and motorcycle                      22\n",
      "do not drive                                22\n",
      "Car that is too old to install Onstar :D    21\n",
      "crossover                                   21\n",
      "Name: count, dtype: int64\n",
      "age    \n",
      "21         2653\n",
      "26         2559\n",
      "31         2039\n",
      "50plus     1788\n",
      "36         1319\n",
      "41         1093\n",
      "46          686\n",
      "below21     547\n",
      "Name: count, dtype: int64\n"
     ]
    },
    {
     "data": {
      "text/plain": [
       "<Axes: xlabel='age', ylabel='Count'>"
      ]
     },
     "execution_count": 560,
     "metadata": {},
     "output_type": "execute_result"
    },
    {
     "data": {
      "image/png": "[encoded data removed]",
      "text/plain": [
       "<Figure size 640x480 with 1 Axes>"
      ]
     },
     "metadata": {},
     "output_type": "display_data"
    }
   ],
   "source": [
    "data.info()\n",
    "\n",
    "# Explore null or missing values\n",
    "print(data.isnull().sum())\n",
    "data.isnull().sum().sort_values().plot(kind = 'bar')\n",
    "\n",
    "print(data[['Bar']].value_counts())\n",
    "print(data[['coupon']].value_counts())\n",
    "print(data[['car']].value_counts())\n",
    "\n",
    "# Explore the data set values\n",
    "print(data[['age']].value_counts())\n",
    "\n",
    "# Visual exploration\n",
    "sns.histplot(data = data, x = 'age', hue = 'Y')\n",
    "\n"
   ]
  },
  {
   "cell_type": "markdown",
   "metadata": {
    "id": "bSdVSpYB_qRH"
   },
   "source": [
    "3. Decide what to do about your missing data -- drop, replace, other..."
   ]
  },
  {
   "cell_type": "code",
   "execution_count": 563,
   "metadata": {
    "id": "tyvoAC5F_qRI",
    "scrolled": true
   },
   "outputs": [
    {
     "data": {
      "text/plain": [
       "<Axes: title={'center': 'Null Values Plot'}, xlabel='Columns', ylabel='Count'>"
      ]
     },
     "execution_count": 563,
     "metadata": {},
     "output_type": "execute_result"
    },
    {
     "data": {
      "image/png": "[encoded data removed]",
      "text/plain": [
       "<Figure size 800x600 with 1 Axes>"
      ]
     },
     "metadata": {},
     "output_type": "display_data"
    }
   ],
   "source": [
    "# drop car column as most of the data is missing and it is not useful information\n",
    "data = data.drop('car', axis='columns')\n",
    "\n",
    "# drop direction_opp column as we can calcuate direction_same = 0 as opposite direction\n",
    "data = data.drop('direction_opp', axis='columns')\n",
    "\n",
    "# Plot a bar plot with null values for visual understanding of which columns have most null values.\n",
    "data.isnull().sum().sort_values().plot(kind = 'bar', title='Null Values Plot', xlabel='Columns', ylabel='Count', figsize=(8, 6))\n"
   ]
  },
  {
   "cell_type": "markdown",
   "metadata": {
    "id": "YE6oJbXd_qRI"
   },
   "source": [
    "4. What proportion of the total observations chose to accept the coupon?\n",
    "\n"
   ]
  },
  {
   "cell_type": "code",
   "execution_count": 566,
   "metadata": {
    "id": "86GGqBTv_qRI"
   },
   "outputs": [
    {
     "name": "stdout",
     "output_type": "stream",
     "text": [
      "56.84326710816777% of total users chose to accept the coupon\n"
     ]
    }
   ],
   "source": [
    "percent_accept_coupons = (((data[['Y']] == 1).sum()).iloc[0] / data.shape[0])\n",
    "# print(f\"Name: {name}, Age: {age}\")\n",
    "# print(type(percent_accept_coupons))\n",
    "print(f\"{percent_accept_coupons * 100}% of total users chose to accept the coupon\")\n"
   ]
  },
  {
   "cell_type": "markdown",
   "metadata": {
    "id": "vflz0DoE_qRI"
   },
   "source": [
    "5. Use a bar plot to visualize the `coupon` column."
   ]
  },
  {
   "cell_type": "code",
   "execution_count": 569,
   "metadata": {
    "id": "dHFh3E45_qRI"
   },
   "outputs": [
    {
     "name": "stdout",
     "output_type": "stream",
     "text": [
      "                                                                  coupon     Y\n",
      "coupon                                                                        \n",
      "Bar                    BarBarBarBarBarBarBarBarBarBarBarBarBarBarBarB...   827\n",
      "Carry out & Take away  Carry out & Take awayCarry out & Take awayCarr...  1760\n",
      "Coffee House           Coffee HouseCoffee HouseCoffee HouseCoffee Hou...  1995\n",
      "Restaurant(20-50)      Restaurant(20-50)Restaurant(20-50)Restaurant(2...   658\n",
      "Restaurant(<20)        Restaurant(<20)Restaurant(<20)Restaurant(<20)R...  1970\n"
     ]
    },
    {
     "data": {
      "text/plain": [
       "<Axes: title={'center': 'Coupon Data Plot'}, xlabel='Coupon Types', ylabel='Total accepted coupons'>"
      ]
     },
     "execution_count": 569,
     "metadata": {},
     "output_type": "execute_result"
    },
    {
     "data": {
      "image/png": "[encoded data removed]",
      "text/plain": [
       "<Figure size 640x480 with 1 Axes>"
      ]
     },
     "metadata": {},
     "output_type": "display_data"
    }
   ],
   "source": [
    "coupon_and_accepted_data = data.groupby('coupon')[['coupon', 'Y']].sum()\n",
    "# print(type(coupon_and_accepted_data))\n",
    "print((coupon_and_accepted_data))\n",
    "\n",
    "coupon_and_accepted_data.plot(title='Coupon Data Plot', xlabel='Coupon Types', ylabel='Total accepted coupons', kind='bar')\n",
    "             "
   ]
  },
  {
   "cell_type": "markdown",
   "metadata": {
    "id": "Qw4lCyx2_qRI"
   },
   "source": [
    "6. Use a histogram to visualize the temperature column."
   ]
  },
  {
   "cell_type": "code",
   "execution_count": 576,
   "metadata": {
    "id": "Yg9Anv71_qRI"
   },
   "outputs": [
    {
     "data": {
      "text/plain": [
       "<Axes: xlabel='temperature', ylabel='Count'>"
      ]
     },
     "execution_count": 576,
     "metadata": {},
     "output_type": "execute_result"
    },
    {
     "data": {
      "image/png": "[encoded data removed]",
      "text/plain": [
       "<Figure size 640x480 with 1 Axes>"
      ]
     },
     "metadata": {},
     "output_type": "display_data"
    }
   ],
   "source": [
    "# print(data[['temperature']].value_counts())\n",
    "sns.histplot(data= data, x= 'temperature', hue = 'Y')"
   ]
  },
  {
   "cell_type": "code",
   "execution_count": null,
   "metadata": {},
   "outputs": [],
   "source": []
  },
  {
   "cell_type": "markdown",
   "metadata": {
    "id": "FupfgeJk_qRJ"
   },
   "source": [
    "**Investigating the Bar Coupons**\n",
    "\n",
    "Now, we will lead you through an exploration of just the bar related coupons.  \n",
    "\n",
    "1. Create a new `DataFrame` that contains just the bar coupons.\n"
   ]
  },
  {
   "cell_type": "code",
   "execution_count": 580,
   "metadata": {
    "id": "tMBlWuGq_qRJ"
   },
   "outputs": [],
   "source": [
    "# print(data)\n",
    "df_bar_coupons = data.query('coupon == \"Bar\"')\n",
    "# print(df_bar_coupons)"
   ]
  },
  {
   "cell_type": "markdown",
   "metadata": {
    "id": "8ue6uCqf_qRJ"
   },
   "source": [
    "2. What proportion of bar coupons were accepted?\n"
   ]
  },
  {
   "cell_type": "code",
   "execution_count": 583,
   "metadata": {
    "id": "hSdte8Mi_qRK",
    "scrolled": true
   },
   "outputs": [
    {
     "name": "stdout",
     "output_type": "stream",
     "text": [
      "<class 'numpy.float64'>\n",
      "41.00148735746158 % of total users chose to accept the bar coupons\n"
     ]
    }
   ],
   "source": [
    "percent_accept_bar_coupons = (((df_bar_coupons[['Y']] == 1).sum()).iloc[0] / df_bar_coupons.shape[0])\n",
    "# print(f\"Name: {name}, Age: {age}\")\n",
    "print(type(percent_accept_bar_coupons))\n",
    "print(f\"{percent_accept_bar_coupons * 100} % of total users chose to accept the bar coupons\")"
   ]
  },
  {
   "cell_type": "markdown",
   "metadata": {
    "id": "85nA_iEi_qRK"
   },
   "source": [
    "3. Compare the acceptance rate between those who went to a bar 3 or fewer times a month to those who went more."
   ]
  },
  {
   "cell_type": "code",
   "execution_count": 586,
   "metadata": {
    "id": "LBOrN-XM_qRK"
   },
   "outputs": [
    {
     "name": "stdout",
     "output_type": "stream",
     "text": [
      "25.551102204408814 % of users who go to bar 3 or fewer times and chose to accept the bar coupons\n",
      "7.665330661322645 % of users who go to bar more than 3 times and chose to accept the bar coupons\n",
      "The acceptance rate of those who go to bar 3 or fewer times and chose to accept the bar coupons is greater than the acceptance rate of those who went more\n"
     ]
    }
   ],
   "source": [
    "#drop null data from the number of times a user visits bar column\n",
    "data2 = df_bar_coupons.dropna(subset = ['Bar'])\n",
    "\n",
    "# print(df_bar_coupons[['Bar']].value_counts())\n",
    "num_bar_3_or_few_and_accepted = data2.query('(Bar == \"less1\" | Bar == \"1~3\") & Y == 1').shape[0] / data2.shape[0]\n",
    "print(f\"{num_bar_3_or_few_and_accepted * 100} % of users who go to bar 3 or fewer times and chose to accept the bar coupons\")\n",
    "\n",
    "num_bar_more_than_3_times_and_accepted = data2.query('(Bar == \"4~8\" | Bar == \"gt8\") & Y == 1').shape[0] / data2.shape[0]\n",
    "print(f\"{num_bar_more_than_3_times_and_accepted * 100} % of users who go to bar more than 3 times and chose to accept the bar coupons\")\n",
    "\n",
    "ans= num_bar_3_or_few_and_accepted > num_bar_more_than_3_times_and_accepted\n",
    "print(f\"The acceptance rate of those who go to bar 3 or fewer times and chose to accept the bar coupons {'is greater than' if ans==True else 'is less than or equal to'} the acceptance rate of those who went more\")\n"
   ]
  },
  {
   "cell_type": "markdown",
   "metadata": {
    "id": "RBgcQwH4_qRK"
   },
   "source": [
    "4. Compare the acceptance rate between drivers who go to a bar more than once a month and are over the age of 25 to the all others.  Is there a difference?\n"
   ]
  },
  {
   "cell_type": "code",
   "execution_count": 589,
   "metadata": {
    "id": "bf28bbeX_qRK"
   },
   "outputs": [
    {
     "name": "stdout",
     "output_type": "stream",
     "text": [
      "0.1462925851703407\n",
      "0.05911823647294589\n",
      "The acceptance rate of those who go to bar more than once and are over age of 25 is greater than the others\n"
     ]
    }
   ],
   "source": [
    "# print(df_bar_coupons[['age']].value_counts())\n",
    "num_bar_more_than_once_and_above_age_25 = data2.query('(Bar == \"1~3\" | Bar == \"4~8\"| Bar == \"gt8\") & (age == \"26\" | age == \"31\" | age == \"31\" | age == \"36\"| age == \"41\" | age == \"46\" | age == \"50plus\") & Y == 1').shape[0] / data2.shape[0]\n",
    "num_bar_more_than_once_and_below_25 = data2.query('(Bar == \"1~3\" | Bar == \"4~8\"| Bar == \"gt8\") & (age == \"21\" | age == \"below21\") & Y == 1').shape[0] / data2.shape[0]\n",
    "print(num_bar_more_than_once_and_above_age_25)\n",
    "print(num_bar_more_than_once_and_below_25)\n",
    "ans= num_bar_more_than_once_and_above_age_25 > num_bar_more_than_once_and_below_25\n",
    "print(f\"The acceptance rate of those who go to bar more than once and are over age of 25 {'is greater than' if ans==True else 'is less than or equal to'} the others\")\n"
   ]
  },
  {
   "cell_type": "markdown",
   "metadata": {
    "id": "S4RKT4PJ_qRK"
   },
   "source": [
    "5. Use the same process to compare the acceptance rate between drivers who go to bars more than once a month and had passengers that were not a kid and had occupations other than farming, fishing, or forestry.\n"
   ]
  },
  {
   "cell_type": "code",
   "execution_count": 592,
   "metadata": {
    "id": "sENaI2Tg_qRK"
   },
   "outputs": [
    {
     "name": "stdout",
     "output_type": "stream",
     "text": [
      "0.1658316633266533\n"
     ]
    }
   ],
   "source": [
    "# print(df_bar_coupons[['occupation']].value_counts())\n",
    "# print(df_bar_coupons[['passanger']].value_counts())\n",
    "occupation_array = ['Student', 'Computer & Mathematical', 'Sales & Related','Education&Training&Library'                   \n",
    "                    ,'Management', 'Office & Administrative Support' ,'Arts Design Entertainment Sports & Media','Business & Financial','Food Preparation & Serving Related'            \n",
    "                    ,'Community & Social Services','Healthcare Support','Healthcare Practitioners & Technical','Transportation & Material Moving','Legal'                                         \n",
    "                    ,'Protective Service','Architecture & Engineering','Personal Care & Service','Life Physical Social Science','Construction & Extraction'                     \n",
    "                    ,'Production Occupations','Installation Maintenance & Repair','Building & Grounds Cleaning & Maintenance ']\n",
    "\n",
    "\n",
    "passengar_array = ['Alone', 'Friend(s)', 'Partner']\n",
    "\n",
    "num_bar_more_than_once_and_passengers_not_kid_specific_occupation = data2.query('(Bar == \"1~3\" | Bar == \"4~8\"| Bar == \"gt8\") & (occupation in @occupation_array) & (passanger in @passengar_array) & Y == 1').shape[0] / data2.shape[0]\n",
    "# num_bar_more_than_once_and_below_25 = data2.query('(Bar == \"1~3\" | Bar == \"4~8\"| Bar == \"gt8\") & (age == \"21\" | age == \"below21\")').shape[0] / data2.shape[0]\n",
    "print(num_bar_more_than_once_and_passengers_not_kid_specific_occupation)"
   ]
  },
  {
   "cell_type": "markdown",
   "metadata": {
    "id": "n2LIUTil_qRK"
   },
   "source": [
    "6. Compare the acceptance rates between those drivers who:\n",
    "\n",
    "- go to bars more than once a month, had passengers that were not a kid, and were not widowed *OR*\n",
    "- go to bars more than once a month and are under the age of 30 *OR*\n",
    "- go to cheap restaurants more than 4 times a month and income is less than 50K.\n",
    "\n"
   ]
  },
  {
   "cell_type": "code",
   "execution_count": 595,
   "metadata": {
    "id": "aK_wEzx7_qRK"
   },
   "outputs": [
    {
     "name": "stdout",
     "output_type": "stream",
     "text": [
      "0.1968937875751503\n",
      "0.12474949899799599\n",
      "0.07765531062124248\n"
     ]
    }
   ],
   "source": [
    "# print(df_bar_coupons[['maritalStatus']].value_counts())\n",
    "maritalStatus_array = ['Married partner', 'Single', 'Unmarried partner', 'Divorced']\n",
    "num_bar_more_than_once_and_passengers_not_kid_not_widowed = data2.query('(Bar == \"1~3\" | Bar == \"4~8\"| Bar == \"gt8\") & (passanger in @passengar_array) & (maritalStatus in @maritalStatus_array) & Y == 1').shape[0] / data2.shape[0]\n",
    "print(num_bar_more_than_once_and_passengers_not_kid_not_widowed)\n",
    "\n",
    "num_bar_more_than_once_and_age_under_30 = data2.query('(Bar == \"1~3\" | Bar == \"4~8\"| Bar == \"gt8\") & (age == \"21\" | age == \"below21\"| age == \"26\") & Y == 1').shape[0] / data2.shape[0]\n",
    "print(num_bar_more_than_once_and_age_under_30)\n",
    "\n",
    "cheap_restaurant_array = ['4~8', 'gt8']\n",
    "salary_array = ['$25000 - $37499', '$12500 - $24999', '$37500 - $49999', 'Less than $12500']\n",
    "# print(df_bar_coupons[['RestaurantLessThan20']].value_counts())\n",
    "# print(df_bar_coupons[['income']].value_counts())\n",
    "\n",
    "num_bar_cheap_restaurants_income = data2.query('((RestaurantLessThan20 in @cheap_restaurant_array) & (income in @salary_array)) & Y == 1').shape[0] / data2.shape[0]\n",
    "print(num_bar_cheap_restaurants_income)"
   ]
  },
  {
   "cell_type": "markdown",
   "metadata": {
    "id": "v3fL3QkO_qRK"
   },
   "source": [
    "7.  Based on these observations, what do you hypothesize about drivers who accepted the bar coupons?"
   ]
  },
  {
   "cell_type": "markdown",
   "metadata": {
    "id": "Y48naDFh_qRL"
   },
   "source": [
    "- 41% of the total users chose to accept the bar coupons\n",
    "- Users who go to the bar more than 3 times were less prone to accept the bar coupons, as perhaps the coupon was not for the bar they frequent\n",
    "- Users older than 25 accepted the bar coupons, as the rest of the younger generation had drinking age restrictions or were not interested in having a drink"
   ]
  },
  {
   "cell_type": "markdown",
   "metadata": {
    "id": "r4Hu1zOb_qRL"
   },
   "source": [
    "### Independent Investigation\n",
    "\n",
    "Using the bar coupon example as motivation, you are to explore one of the other coupon groups and try to determine the characteristics of passengers who accept the coupons.  "
   ]
  },
  {
   "cell_type": "code",
   "execution_count": 600,
   "metadata": {
    "id": "0c71cQhu_qRL"
   },
   "outputs": [
    {
     "name": "stdout",
     "output_type": "stream",
     "text": [
      "<class 'numpy.float64'>\n",
      "49.92492492492492 % of total users chose to accept the coffee house coupons\n"
     ]
    }
   ],
   "source": [
    "# Creating a data frame with coffee shop coupon data\n",
    "df_coffee_shop_coupons = data.query('coupon == \"Coffee House\"')\n",
    "# print(df_coffee_shop_coupons)\n",
    "\n",
    "# Percent of Coffee House coupons accepted\n",
    "percent_accept_coffee_shop_coupons = (((df_coffee_shop_coupons[['Y']] == 1).sum()).iloc[0] / df_coffee_shop_coupons.shape[0])\n",
    "# print(f\"Name: {name}, Age: {age}\")\n",
    "print(type(percent_accept_coffee_shop_coupons))\n",
    "print(f\"{percent_accept_coffee_shop_coupons * 100} % of total users chose to accept the coffee house coupons\")"
   ]
  },
  {
   "cell_type": "code",
   "execution_count": 602,
   "metadata": {
    "id": "QEsBkvIN_qRL"
   },
   "outputs": [
    {
     "name": "stderr",
     "output_type": "stream",
     "text": [
      "/var/folders/yy/t3gfz8qj1qn7kc9nw6v4m8jw0000gq/T/ipykernel_77328/110680861.py:8: FutureWarning: Downcasting behavior in `replace` is deprecated and will be removed in a future version. To retain the old behavior, explicitly call `result.infer_objects(copy=False)`. To opt-in to the future behavior, set `pd.set_option('future.no_silent_downcasting', True)`\n",
      "  data2['CoffeeHouse'] = data2['CoffeeHouse'].replace({'less1': 1, '1~3': 3, 'never' : 0, '4~8' : 8, 'gt8' : 9})\n",
      "/var/folders/yy/t3gfz8qj1qn7kc9nw6v4m8jw0000gq/T/ipykernel_77328/110680861.py:8: SettingWithCopyWarning: \n",
      "A value is trying to be set on a copy of a slice from a DataFrame.\n",
      "Try using .loc[row_indexer,col_indexer] = value instead\n",
      "\n",
      "See the caveats in the documentation: https://pandas.pydata.org/pandas-docs/stable/user_guide/indexing.html#returning-a-view-versus-a-copy\n",
      "  data2['CoffeeHouse'] = data2['CoffeeHouse'].replace({'less1': 1, '1~3': 3, 'never' : 0, '4~8' : 8, 'gt8' : 9})\n"
     ]
    }
   ],
   "source": [
    "## Cleaning data\n",
    "\n",
    "#drop null data from the number of times a user visits bar column\n",
    "data2 = df_coffee_shop_coupons.dropna(subset = ['CoffeeHouse'])\n",
    "\n",
    "# print(data2[['CoffeeHouse']].value_counts())\n",
    "# replace the values of CoffeeHouse visits colum with int\n",
    "data2['CoffeeHouse'] = data2['CoffeeHouse'].replace({'less1': 1, '1~3': 3, 'never' : 0, '4~8' : 8, 'gt8' : 9})\n",
    "\n",
    "# print(data2[['CoffeeHouse']].value_counts())"
   ]
  },
  {
   "cell_type": "code",
   "execution_count": 604,
   "metadata": {
    "id": "fTC2WGE3_qRL"
   },
   "outputs": [
    {
     "name": "stdout",
     "output_type": "stream",
     "text": [
      "5.73394495412844 % of users who go to coffee shop greater than 8 times, chose to accept the coffee shop coupons\n",
      "17.660550458715598 % of users who go to coffee shop once or have never visited and chose to accept the coffe house coupons\n"
     ]
    }
   ],
   "source": [
    "# How many users who go to coffee house the most accepted the coupon\n",
    "\n",
    "num_cshop_3_or_few_and_accepted = data2.query('CoffeeHouse == 9 & Y == 1').shape[0] / data2.shape[0]\n",
    "print(f\"{num_cshop_3_or_few_and_accepted * 100} % of users who go to coffee shop greater than 8 times, chose to accept the coffee shop coupons\")\n",
    "\n",
    "num_cshop_less_than_1_or_never_and_accepted = data2.query('(CoffeeHouse == 1 | CoffeeHouse == 0) & Y == 1').shape[0] / data2.shape[0]\n",
    "print(f\"{num_cshop_less_than_1_or_never_and_accepted * 100} % of users who go to coffee shop once or have never visited and chose to accept the coffe house coupons\")\n",
    "\n",
    "# ans= num_bar_3_or_few_and_accepted > num_bar_more_than_3_times_and_accepted\n",
    "# print(f\"The acceptance rate of those who go to bar 3 or fewer times and chose to accept the bar coupons {'is greater than' if ans==True else 'is less than or equal to'} the acceptance rate of those who went more\")\n"
   ]
  },
  {
   "cell_type": "code",
   "execution_count": 606,
   "metadata": {
    "id": "RrqUWn7d_qRL"
   },
   "outputs": [
    {
     "name": "stdout",
     "output_type": "stream",
     "text": [
      "9.964322120285422 % of users chose to accept coffee house coupons in same direction\n",
      "40.03567787971458 % of users chose to accept coffee house coupons in opposite direction\n",
      "12.50394197414065% of total users chose to accept the coupon due to coupon restaurant in same direction\n",
      "44.33932513402712% of total users chose to accept the coupon due to coupon restaurant in opposite direction\n"
     ]
    }
   ],
   "source": [
    "# How many users selected the coffee house coupons because it was in the same direction v/s opposite direction\n",
    "\n",
    "# print(data2[['direction_same']].value_counts())\n",
    "\n",
    "num_cshop_same_dir_and_accepted = data2.query('direction_same == 1 & Y == 1').shape[0] / data2.shape[0]\n",
    "print(f\"{num_cshop_same_dir_and_accepted * 100} % of users chose to accept coffee house coupons in same direction\")\n",
    "\n",
    "num_cshop_opp_dir_and_accepted = data2.query('direction_same == 0 & Y == 1').shape[0] / data2.shape[0]\n",
    "print(f\"{num_cshop_opp_dir_and_accepted * 100} % of users chose to accept coffee house coupons in opposite direction\")\n",
    "\n",
    "# Lets find out if the above trend holds true for all the selected coupons.\n",
    "\n",
    "percent_accept_coupons_same_direction = data.query('direction_same == 1 & Y == 1').shape[0] / data.shape[0]\n",
    "print(f\"{percent_accept_coupons_same_direction * 100}% of total users chose to accept the coupon due to coupon restaurant in same direction\")\n",
    "\n",
    "percent_accept_coupons_opp_direction = data.query('direction_same == 0 & Y == 1').shape[0] / data.shape[0]\n",
    "print(f\"{percent_accept_coupons_opp_direction * 100}% of total users chose to accept the coupon due to coupon restaurant in opposite direction\")\n",
    "\n",
    "## 44% Users chose to try out new restaurants (i.e. in opposite direction of their travel) when there is a coupon available"
   ]
  },
  {
   "cell_type": "code",
   "execution_count": 608,
   "metadata": {
    "id": "_oykf8YP_qRL"
   },
   "outputs": [
    {
     "name": "stdout",
     "output_type": "stream",
     "text": [
      "21.87007253232419% of total users chose to accept the coupon due to 2 hour expiry window\n",
      "34.97319457584358% of total users chose to accept the coupon due to 1 day expiry window\n"
     ]
    }
   ],
   "source": [
    "# Lets find out if the coupon expiration time has any co-relation with the coupon acceptance\n",
    "\n",
    "# print(data[['expiration']].value_counts())\n",
    "\n",
    "percent_accept_coupons_2h_expiry = data.query('expiration == \"2h\" & Y == 1').shape[0] / data.shape[0]\n",
    "print(f\"{percent_accept_coupons_2h_expiry * 100}% of total users chose to accept the coupon due to 2 hour expiry window\")\n",
    "\n",
    "percent_accept_coupons_1d_expiry = data.query('expiration == \"1d\" & Y == 1').shape[0] / data.shape[0]\n",
    "print(f\"{percent_accept_coupons_1d_expiry * 100}% of total users chose to accept the coupon due to 1 day expiry window\")\n",
    "\n",
    "## 44% Users chose to accept coupon with a (1d) bigger expiry window"
   ]
  },
  {
   "cell_type": "code",
   "execution_count": 610,
   "metadata": {},
   "outputs": [
    {
     "name": "stdout",
     "output_type": "stream",
     "text": [
      "31.39388205613371% of total users chose to accept the coupon when driving to no urgent destination\n",
      "12.921791233049513% of total users chose to accept the coupon when driving home\n",
      "12.527593818984547% of total users chose to accept the coupon when driving to work\n"
     ]
    }
   ],
   "source": [
    "# Lets find out if user's destination has any corelation with the coupon acceptance\n",
    "# print(data[['destination']].value_counts())\n",
    "\n",
    "percent_accept_coupons_no_urgent_destination = data.query('destination == \"No Urgent Place\" & Y == 1').shape[0] / data.shape[0]\n",
    "print(f\"{percent_accept_coupons_no_urgent_destination * 100}% of total users chose to accept the coupon when driving to no urgent destination\")\n",
    "\n",
    "percent_accept_coupons_headed_home = data.query('destination == \"Home\" & Y == 1').shape[0] / data.shape[0]\n",
    "print(f\"{percent_accept_coupons_headed_home * 100}% of total users chose to accept the coupon when driving home\")\n",
    "\n",
    "percent_accept_coupons_headed_to_work = data.query('destination == \"Work\" & Y == 1').shape[0] / data.shape[0]\n",
    "print(f\"{percent_accept_coupons_headed_to_work * 100}% of total users chose to accept the coupon when driving to work\")\n",
    "\n",
    "## 31% of users chose to accept coupon while not driving to work or home\n"
   ]
  },
  {
   "cell_type": "code",
   "execution_count": null,
   "metadata": {},
   "outputs": [],
   "source": []
  },
  {
   "cell_type": "code",
   "execution_count": null,
   "metadata": {},
   "outputs": [],
   "source": []
  }
 ],
 "metadata": {
  "colab": {
   "provenance": []
  },
  "kernelspec": {
   "display_name": "Python [conda env:base] *",
   "language": "python",
   "name": "conda-base-py"
  },
  "language_info": {
   "codemirror_mode": {
    "name": "ipython",
    "version": 3
   },
   "file_extension": ".py",
   "mimetype": "text/x-python",
   "name": "python",
   "nbconvert_exporter": "python",
   "pygments_lexer": "ipython3",
   "version": "3.12.7"
  }
 },
 "nbformat": 4,
 "nbformat_minor": 4
}
