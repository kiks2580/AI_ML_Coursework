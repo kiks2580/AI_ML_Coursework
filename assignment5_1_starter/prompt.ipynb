{
 "cells": [
  {
   "cell_type": "markdown",
   "metadata": {
    "id": "CcUT6Fon_qRE"
   },
   "source": [
    "### Required Assignment 5.1: Will the Customer Accept the Coupon?\n",
    "\n",
    "**Context**\n",
    "\n",
    "Imagine driving through town and a coupon is delivered to your cell phone for a restaurant near where you are driving. Would you accept that coupon and take a short detour to the restaurant? Would you accept the coupon but use it on a subsequent trip? Would you ignore the coupon entirely? What if the coupon was for a bar instead of a restaurant? What about a coffee house? Would you accept a bar coupon with a minor passenger in the car? What about if it was just you and your partner in the car? Would weather impact the rate of acceptance? What about the time of day?\n",
    "\n",
    "Obviously, proximity to the business is a factor on whether the coupon is delivered to the driver or not, but what are the factors that determine whether a driver accepts the coupon once it is delivered to them? How would you determine whether a driver is likely to accept a coupon?\n",
    "\n",
    "**Overview**\n",
    "\n",
    "The goal of this project is to use what you know about visualizations and probability distributions to distinguish between customers who accepted a driving coupon versus those that did not.\n",
    "\n",
    "**Data**\n",
    "\n",
    "This data comes to us from the UCI Machine Learning repository and was collected via a survey on Amazon Mechanical Turk. The survey describes different driving scenarios including the destination, current time, weather, passenger, etc., and then ask the person whether he will accept the coupon if he is the driver. Answers that the user will drive there ‘right away’ or ‘later before the coupon expires’ are labeled as ‘Y = 1’ and answers ‘no, I do not want the coupon’ are labeled as ‘Y = 0’.  There are five different types of coupons -- less expensive restaurants (under \\$20), coffee houses, carry out & take away, bar, and more expensive restaurants (\\$20 - $50)."
   ]
  },
  {
   "cell_type": "markdown",
   "metadata": {
    "id": "1wORvMBJ_qRF"
   },
   "source": [
    "**Deliverables**\n",
    "\n",
    "Your final product should be a brief report that highlights the differences between customers who did and did not accept the coupons.  To explore the data you will utilize your knowledge of plotting, statistical summaries, and visualization using Python. You will publish your findings in a public facing github repository as your first portfolio piece.\n",
    "\n",
    "\n",
    "\n"
   ]
  },
  {
   "cell_type": "markdown",
   "metadata": {
    "id": "pG6_Ym6q_qRG"
   },
   "source": [
    "### Data Description\n",
    "Keep in mind that these values mentioned below are average values.\n",
    "\n",
    "The attributes of this data set include:\n",
    "1. User attributes\n",
    "    -  Gender: male, female\n",
    "    -  Age: below 21, 21 to 25, 26 to 30, etc.\n",
    "    -  Marital Status: single, married partner, unmarried partner, or widowed\n",
    "    -  Number of children: 0, 1, or more than 1\n",
    "    -  Education: high school, bachelors degree, associates degree, or graduate degree\n",
    "    -  Occupation: architecture & engineering, business & financial, etc.\n",
    "    -  Annual income: less than \\\\$12500, \\\\$12500 - \\\\$24999, \\\\$25000 - \\\\$37499, etc.\n",
    "    -  Number of times that he/she goes to a bar: 0, less than 1, 1 to 3, 4 to 8 or greater than 8\n",
    "    -  Number of times that he/she buys takeaway food: 0, less than 1, 1 to 3, 4 to 8 or greater\n",
    "    than 8\n",
    "    -  Number of times that he/she goes to a coffee house: 0, less than 1, 1 to 3, 4 to 8 or\n",
    "    greater than 8\n",
    "    -  Number of times that he/she eats at a restaurant with average expense less than \\\\$20 per\n",
    "    person: 0, less than 1, 1 to 3, 4 to 8 or greater than 8\n",
    "    -  Number of times that he/she goes to a bar: 0, less than 1, 1 to 3, 4 to 8 or greater than 8\n",
    "    \n",
    "\n",
    "2. Contextual attributes\n",
    "    - Driving destination: home, work, or no urgent destination\n",
    "    - Location of user, coupon and destination: we provide a map to show the geographical\n",
    "    location of the user, destination, and the venue, and we mark the distance between each\n",
    "    two places with time of driving. The user can see whether the venue is in the same\n",
    "    direction as the destination.\n",
    "    - Weather: sunny, rainy, or snowy\n",
    "    - Temperature: 30F, 55F, or 80F\n",
    "    - Time: 10AM, 2PM, or 6PM\n",
    "    - Passenger: alone, partner, kid(s), or friend(s)\n",
    "\n",
    "\n",
    "3. Coupon attributes\n",
    "    - time before it expires: 2 hours or one day"
   ]
  },
  {
   "cell_type": "code",
   "execution_count": 570,
   "metadata": {
    "id": "dzNoP3o__qRG"
   },
   "outputs": [],
   "source": [
    "import matplotlib.pyplot as plt\n",
    "import seaborn as sns\n",
    "import pandas as pd\n",
    "import numpy as np"
   ]
  },
  {
   "cell_type": "markdown",
   "metadata": {
    "id": "Ct8pI1uE_qRG"
   },
   "source": [
    "### Problems\n",
    "\n",
    "Use the prompts below to get started with your data analysis.  \n",
    "\n",
    "1. Read in the `coupons.csv` file.\n",
    "\n",
    "\n"
   ]
  },
  {
   "cell_type": "code",
   "execution_count": 573,
   "metadata": {
    "id": "X0vbffYg_qRH"
   },
   "outputs": [],
   "source": [
    "data = pd.read_csv('data/coupons.csv')"
   ]
  },
  {
   "cell_type": "code",
   "execution_count": 575,
   "metadata": {
    "id": "TXofQ_DF_qRH",
    "outputId": "2fc96a2c-1112-4b54-f24f-dbb9bc88abfb"
   },
   "outputs": [
    {
     "data": {
      "text/plain": [
       "<bound method NDFrame.head of            destination  passanger weather  temperature  time  \\\n",
       "0      No Urgent Place      Alone   Sunny           55   2PM   \n",
       "1      No Urgent Place  Friend(s)   Sunny           80  10AM   \n",
       "2      No Urgent Place  Friend(s)   Sunny           80  10AM   \n",
       "3      No Urgent Place  Friend(s)   Sunny           80   2PM   \n",
       "4      No Urgent Place  Friend(s)   Sunny           80   2PM   \n",
       "...                ...        ...     ...          ...   ...   \n",
       "12679             Home    Partner   Rainy           55   6PM   \n",
       "12680             Work      Alone   Rainy           55   7AM   \n",
       "12681             Work      Alone   Snowy           30   7AM   \n",
       "12682             Work      Alone   Snowy           30   7AM   \n",
       "12683             Work      Alone   Sunny           80   7AM   \n",
       "\n",
       "                      coupon expiration  gender age      maritalStatus  ...  \\\n",
       "0            Restaurant(<20)         1d  Female  21  Unmarried partner  ...   \n",
       "1               Coffee House         2h  Female  21  Unmarried partner  ...   \n",
       "2      Carry out & Take away         2h  Female  21  Unmarried partner  ...   \n",
       "3               Coffee House         2h  Female  21  Unmarried partner  ...   \n",
       "4               Coffee House         1d  Female  21  Unmarried partner  ...   \n",
       "...                      ...        ...     ...  ..                ...  ...   \n",
       "12679  Carry out & Take away         1d    Male  26             Single  ...   \n",
       "12680  Carry out & Take away         1d    Male  26             Single  ...   \n",
       "12681           Coffee House         1d    Male  26             Single  ...   \n",
       "12682                    Bar         1d    Male  26             Single  ...   \n",
       "12683      Restaurant(20-50)         2h    Male  26             Single  ...   \n",
       "\n",
       "       CoffeeHouse CarryAway RestaurantLessThan20 Restaurant20To50  \\\n",
       "0            never       NaN                  4~8              1~3   \n",
       "1            never       NaN                  4~8              1~3   \n",
       "2            never       NaN                  4~8              1~3   \n",
       "3            never       NaN                  4~8              1~3   \n",
       "4            never       NaN                  4~8              1~3   \n",
       "...            ...       ...                  ...              ...   \n",
       "12679        never       1~3                  4~8              1~3   \n",
       "12680        never       1~3                  4~8              1~3   \n",
       "12681        never       1~3                  4~8              1~3   \n",
       "12682        never       1~3                  4~8              1~3   \n",
       "12683        never       1~3                  4~8              1~3   \n",
       "\n",
       "      toCoupon_GEQ5min toCoupon_GEQ15min toCoupon_GEQ25min direction_same  \\\n",
       "0                    1                 0                 0              0   \n",
       "1                    1                 0                 0              0   \n",
       "2                    1                 1                 0              0   \n",
       "3                    1                 1                 0              0   \n",
       "4                    1                 1                 0              0   \n",
       "...                ...               ...               ...            ...   \n",
       "12679                1                 0                 0              1   \n",
       "12680                1                 0                 0              0   \n",
       "12681                1                 0                 0              1   \n",
       "12682                1                 1                 1              0   \n",
       "12683                1                 0                 0              1   \n",
       "\n",
       "      direction_opp  Y  \n",
       "0                 1  1  \n",
       "1                 1  0  \n",
       "2                 1  1  \n",
       "3                 1  0  \n",
       "4                 1  0  \n",
       "...             ... ..  \n",
       "12679             0  1  \n",
       "12680             1  1  \n",
       "12681             0  0  \n",
       "12682             1  0  \n",
       "12683             0  0  \n",
       "\n",
       "[12684 rows x 26 columns]>"
      ]
     },
     "execution_count": 575,
     "metadata": {},
     "output_type": "execute_result"
    }
   ],
   "source": [
    "data.head"
   ]
  },
  {
   "cell_type": "markdown",
   "metadata": {
    "id": "GcDs78ZH_qRH"
   },
   "source": [
    "2. Investigate the dataset for missing or problematic data."
   ]
  },
  {
   "cell_type": "code",
   "execution_count": null,
   "metadata": {
    "id": "6CwL6oWj_qRH"
   },
   "outputs": [],
   "source": [
    "data.info()\n",
    "data\n",
    "\n",
    "# Explore null or missing values\n",
    "print(data.isnull().sum())\n",
    "# data.isnull().sum().sort_values().plot(kind = 'bar')\n",
    "\n",
    "print(data[['Bar']].value_counts())\n",
    "print(data[['coupon']].value_counts())\n",
    "print(data[['car']].value_counts())\n",
    "\n",
    "# Explore the data set values\n",
    "print(data[['age']].value_counts())\n",
    "\n",
    "# Visual exploration\n",
    "# sns.histplot(data = data, x = 'age', hue = 'Y')\n",
    "\n",
    "# Explore coupon value counts\n",
    "print(data[['coupon']].value_counts())\n",
    "# data[['coupon']].value_counts().plot(kind= 'bar')\n"
   ]
  },
  {
   "cell_type": "markdown",
   "metadata": {
    "id": "bSdVSpYB_qRH"
   },
   "source": [
    "3. Decide what to do about your missing data -- drop, replace, other..."
   ]
  },
  {
   "cell_type": "code",
   "execution_count": 581,
   "metadata": {
    "id": "tyvoAC5F_qRI",
    "scrolled": true
   },
   "outputs": [
    {
     "data": {
      "text/plain": [
       "<Axes: >"
      ]
     },
     "execution_count": 581,
     "metadata": {},
     "output_type": "execute_result"
    },
    {
     "data": {
      "image/png": "[encoded data removed]",
      "text/plain": [
       "<Figure size 640x480 with 1 Axes>"
      ]
     },
     "metadata": {},
     "output_type": "display_data"
    }
   ],
   "source": [
    "# drop car column as most of the data is missing and it is not useful information\n",
    "data = data.drop('car', axis='columns')\n",
    "data.isnull().sum().sort_values().plot(kind = 'bar')\n",
    "\n",
    "# # convert Y column to float value\n",
    "# data['Y'] = pd.to_numeric(data['Y'])"
   ]
  },
  {
   "cell_type": "markdown",
   "metadata": {
    "id": "YE6oJbXd_qRI"
   },
   "source": [
    "4. What proportion of the total observations chose to accept the coupon?\n",
    "\n"
   ]
  },
  {
   "cell_type": "code",
   "execution_count": 584,
   "metadata": {
    "id": "86GGqBTv_qRI"
   },
   "outputs": [
    {
     "name": "stdout",
     "output_type": "stream",
     "text": [
      "<class 'numpy.float64'>\n",
      "56.84326710816777% of total users chose to accept the coupon\n"
     ]
    },
    {
     "name": "stderr",
     "output_type": "stream",
     "text": [
      "/var/folders/yy/t3gfz8qj1qn7kc9nw6v4m8jw0000gq/T/ipykernel_44797/3297816111.py:1: FutureWarning: Series.__getitem__ treating keys as positions is deprecated. In a future version, integer keys will always be treated as labels (consistent with DataFrame behavior). To access a value by position, use `ser.iloc[pos]`\n",
      "  percent_accept_coupons = (((data[['Y']] == 1).sum())[0] / data.shape[0])\n"
     ]
    }
   ],
   "source": [
    "percent_accept_coupons = (((data[['Y']] == 1).sum())[0] / data.shape[0])\n",
    "# print(f\"Name: {name}, Age: {age}\")\n",
    "print(type(percent_accept_coupons))\n",
    "print(f\"{percent_accept_coupons * 100}% of total users chose to accept the coupon\")\n"
   ]
  },
  {
   "cell_type": "markdown",
   "metadata": {
    "id": "vflz0DoE_qRI"
   },
   "source": [
    "5. Use a bar plot to visualize the `coupon` column."
   ]
  },
  {
   "cell_type": "code",
   "execution_count": 587,
   "metadata": {
    "id": "dHFh3E45_qRI"
   },
   "outputs": [
    {
     "name": "stdout",
     "output_type": "stream",
     "text": [
      "<class 'pandas.core.frame.DataFrame'>\n",
      "                                                                  coupon     Y\n",
      "coupon                                                                        \n",
      "Bar                    BarBarBarBarBarBarBarBarBarBarBarBarBarBarBarB...   827\n",
      "Carry out & Take away  Carry out & Take awayCarry out & Take awayCarr...  1760\n",
      "Coffee House           Coffee HouseCoffee HouseCoffee HouseCoffee Hou...  1995\n",
      "Restaurant(20-50)      Restaurant(20-50)Restaurant(20-50)Restaurant(2...   658\n",
      "Restaurant(<20)        Restaurant(<20)Restaurant(<20)Restaurant(<20)R...  1970\n"
     ]
    },
    {
     "data": {
      "image/png": "[encoded data removed]",
      "text/plain": [
       "<Figure size 640x480 with 1 Axes>"
      ]
     },
     "metadata": {},
     "output_type": "display_data"
    }
   ],
   "source": [
    "coupon_and_accepted_data = data.groupby('coupon')[['coupon', 'Y']].sum()\n",
    "print(type(coupon_and_accepted_data))\n",
    "print((coupon_and_accepted_data))\n",
    "\n",
    "coupon_and_accepted_data.plot(title='Coupon Data Plot', xlabel='Coupon Types', ylabel='Total accepted coupons', kind='bar')\n",
    "plt.show()\n",
    "\n",
    "             "
   ]
  },
  {
   "cell_type": "markdown",
   "metadata": {
    "id": "Qw4lCyx2_qRI"
   },
   "source": [
    "6. Use a histogram to visualize the temperature column."
   ]
  },
  {
   "cell_type": "code",
   "execution_count": 590,
   "metadata": {
    "id": "Yg9Anv71_qRI"
   },
   "outputs": [
    {
     "name": "stdout",
     "output_type": "stream",
     "text": [
      "temperature\n",
      "80             6528\n",
      "55             3840\n",
      "30             2316\n",
      "Name: count, dtype: int64\n"
     ]
    },
    {
     "data": {
      "text/plain": [
       "<Axes: xlabel='temperature', ylabel='Count'>"
      ]
     },
     "execution_count": 590,
     "metadata": {},
     "output_type": "execute_result"
    },
    {
     "data": {
      "image/png": "[encoded data removed]",
      "text/plain": [
       "<Figure size 640x480 with 1 Axes>"
      ]
     },
     "metadata": {},
     "output_type": "display_data"
    }
   ],
   "source": [
    "# sns.histplot(data = churn_df, x = 'intl_mins', hue = 'churn')\n",
    "\n",
    "print(data[['temperature']].value_counts())\n",
    "sns.histplot(data= data, x= 'temperature', hue = 'Y')"
   ]
  },
  {
   "cell_type": "code",
   "execution_count": null,
   "metadata": {},
   "outputs": [],
   "source": []
  },
  {
   "cell_type": "markdown",
   "metadata": {
    "id": "FupfgeJk_qRJ"
   },
   "source": [
    "**Investigating the Bar Coupons**\n",
    "\n",
    "Now, we will lead you through an exploration of just the bar related coupons.  \n",
    "\n",
    "1. Create a new `DataFrame` that contains just the bar coupons.\n"
   ]
  },
  {
   "cell_type": "code",
   "execution_count": 594,
   "metadata": {
    "id": "tMBlWuGq_qRJ"
   },
   "outputs": [],
   "source": [
    "# print(data)\n",
    "df_bar_coupons = data.query('coupon == \"Bar\"')\n",
    "# print(df_bar_coupons)"
   ]
  },
  {
   "cell_type": "markdown",
   "metadata": {
    "id": "8ue6uCqf_qRJ"
   },
   "source": [
    "2. What proportion of bar coupons were accepted?\n"
   ]
  },
  {
   "cell_type": "code",
   "execution_count": 597,
   "metadata": {
    "id": "hSdte8Mi_qRK",
    "scrolled": true
   },
   "outputs": [
    {
     "name": "stdout",
     "output_type": "stream",
     "text": [
      "<class 'numpy.float64'>\n",
      "41.00148735746158 % of total users chose to accept the bar coupons\n"
     ]
    },
    {
     "name": "stderr",
     "output_type": "stream",
     "text": [
      "/var/folders/yy/t3gfz8qj1qn7kc9nw6v4m8jw0000gq/T/ipykernel_44797/2196066905.py:1: FutureWarning: Series.__getitem__ treating keys as positions is deprecated. In a future version, integer keys will always be treated as labels (consistent with DataFrame behavior). To access a value by position, use `ser.iloc[pos]`\n",
      "  percent_accept_bar_coupons = (((df_bar_coupons[['Y']] == 1).sum())[0] / df_bar_coupons.shape[0])\n"
     ]
    }
   ],
   "source": [
    "percent_accept_bar_coupons = (((df_bar_coupons[['Y']] == 1).sum())[0] / df_bar_coupons.shape[0])\n",
    "# print(f\"Name: {name}, Age: {age}\")\n",
    "print(type(percent_accept_bar_coupons))\n",
    "print(f\"{percent_accept_bar_coupons * 100} % of total users chose to accept the bar coupons\")"
   ]
  },
  {
   "cell_type": "markdown",
   "metadata": {
    "id": "85nA_iEi_qRK"
   },
   "source": [
    "3. Compare the acceptance rate between those who went to a bar 3 or fewer times a month to those who went more."
   ]
  },
  {
   "cell_type": "code",
   "execution_count": 600,
   "metadata": {
    "id": "LBOrN-XM_qRK"
   },
   "outputs": [
    {
     "name": "stdout",
     "output_type": "stream",
     "text": [
      "Bar  \n",
      "never    830\n",
      "less1    570\n",
      "1~3      397\n",
      "4~8      150\n",
      "gt8       49\n",
      "Name: count, dtype: int64\n",
      "25.551102204408814 % of users who go to bar 3 or fewer times and chose to accept the bar coupons\n",
      "7.665330661322645 % of users who go to bar more than 3 times and chose to accept the bar coupons\n",
      "The acceptance rate of those who go to bar 3 or fewer times and chose to accept the bar coupons is greater than the acceptance rate of those who went more\n"
     ]
    }
   ],
   "source": [
    "#drop null data from the number of times a user visits bar column\n",
    "data2 = df_bar_coupons.dropna(subset = ['Bar'])\n",
    "\n",
    "print(df_bar_coupons[['Bar']].value_counts())\n",
    "num_bar_3_or_few_and_accepted = data2.query('(Bar == \"less1\" | Bar == \"1~3\") & Y == 1').shape[0] / data2.shape[0]\n",
    "print(f\"{num_bar_3_or_few_and_accepted * 100} % of users who go to bar 3 or fewer times and chose to accept the bar coupons\")\n",
    "\n",
    "num_bar_more_than_3_times_and_accepted = data2.query('(Bar == \"4~8\" | Bar == \"gt8\") & Y == 1').shape[0] / data2.shape[0]\n",
    "print(f\"{num_bar_more_than_3_times_and_accepted * 100} % of users who go to bar more than 3 times and chose to accept the bar coupons\")\n",
    "\n",
    "ans= num_bar_3_or_few_and_accepted > num_bar_more_than_3_times_and_accepted\n",
    "print(f\"The acceptance rate of those who go to bar 3 or fewer times and chose to accept the bar coupons {'is greater than' if ans==True else 'is less than or equal to'} the acceptance rate of those who went more\")\n"
   ]
  },
  {
   "cell_type": "markdown",
   "metadata": {
    "id": "RBgcQwH4_qRK"
   },
   "source": [
    "4. Compare the acceptance rate between drivers who go to a bar more than once a month and are over the age of 25 to the all others.  Is there a difference?\n"
   ]
  },
  {
   "cell_type": "code",
   "execution_count": 603,
   "metadata": {
    "id": "bf28bbeX_qRK"
   },
   "outputs": [
    {
     "name": "stdout",
     "output_type": "stream",
     "text": [
      "age    \n",
      "21         417\n",
      "26         395\n",
      "31         339\n",
      "50plus     283\n",
      "36         209\n",
      "41         178\n",
      "46         109\n",
      "below21     87\n",
      "Name: count, dtype: int64\n",
      "0.1462925851703407\n",
      "0.05911823647294589\n",
      "The acceptance rate of those who go to bar more than once and are over age of 25 is greater than the others\n"
     ]
    }
   ],
   "source": [
    "print(df_bar_coupons[['age']].value_counts())\n",
    "num_bar_more_than_once_and_above_age_25 = data2.query('(Bar == \"1~3\" | Bar == \"4~8\"| Bar == \"gt8\") & (age == \"26\" | age == \"31\" | age == \"31\" | age == \"36\"| age == \"41\" | age == \"46\" | age == \"50plus\") & Y == 1').shape[0] / data2.shape[0]\n",
    "num_bar_more_than_once_and_below_25 = data2.query('(Bar == \"1~3\" | Bar == \"4~8\"| Bar == \"gt8\") & (age == \"21\" | age == \"below21\") & Y == 1').shape[0] / data2.shape[0]\n",
    "print(num_bar_more_than_once_and_above_age_25)\n",
    "print(num_bar_more_than_once_and_below_25)\n",
    "ans= num_bar_more_than_once_and_above_age_25 > num_bar_more_than_once_and_below_25\n",
    "print(f\"The acceptance rate of those who go to bar more than once and are over age of 25 {'is greater than' if ans==True else 'is less than or equal to'} the others\")\n"
   ]
  },
  {
   "cell_type": "markdown",
   "metadata": {
    "id": "S4RKT4PJ_qRK"
   },
   "source": [
    "5. Use the same process to compare the acceptance rate between drivers who go to bars more than once a month and had passengers that were not a kid and had occupations other than farming, fishing, or forestry.\n"
   ]
  },
  {
   "cell_type": "code",
   "execution_count": 606,
   "metadata": {
    "id": "sENaI2Tg_qRK"
   },
   "outputs": [
    {
     "name": "stdout",
     "output_type": "stream",
     "text": [
      "0.1658316633266533\n"
     ]
    }
   ],
   "source": [
    "# print(df_bar_coupons[['occupation']].value_counts())\n",
    "# print(df_bar_coupons[['passanger']].value_counts())\n",
    "occupation_array = ['Student', 'Computer & Mathematical', 'Sales & Related','Education&Training&Library'                   \n",
    "                    ,'Management', 'Office & Administrative Support' ,'Arts Design Entertainment Sports & Media','Business & Financial','Food Preparation & Serving Related'            \n",
    "                    ,'Community & Social Services','Healthcare Support','Healthcare Practitioners & Technical','Transportation & Material Moving','Legal'                                         \n",
    "                    ,'Protective Service','Architecture & Engineering','Personal Care & Service','Life Physical Social Science','Construction & Extraction'                     \n",
    "                    ,'Production Occupations','Installation Maintenance & Repair','Building & Grounds Cleaning & Maintenance ']\n",
    "\n",
    "\n",
    "passengar_array = ['Alone', 'Friend(s)', 'Partner']\n",
    "\n",
    "num_bar_more_than_once_and_passengers_not_kid_specific_occupation = data2.query('(Bar == \"1~3\" | Bar == \"4~8\"| Bar == \"gt8\") & (occupation in @occupation_array) & (passanger in @passengar_array) & Y == 1').shape[0] / data2.shape[0]\n",
    "# num_bar_more_than_once_and_below_25 = data2.query('(Bar == \"1~3\" | Bar == \"4~8\"| Bar == \"gt8\") & (age == \"21\" | age == \"below21\")').shape[0] / data2.shape[0]\n",
    "print(num_bar_more_than_once_and_passengers_not_kid_specific_occupation)"
   ]
  },
  {
   "cell_type": "markdown",
   "metadata": {
    "id": "n2LIUTil_qRK"
   },
   "source": [
    "6. Compare the acceptance rates between those drivers who:\n",
    "\n",
    "- go to bars more than once a month, had passengers that were not a kid, and were not widowed *OR*\n",
    "- go to bars more than once a month and are under the age of 30 *OR*\n",
    "- go to cheap restaurants more than 4 times a month and income is less than 50K.\n",
    "\n"
   ]
  },
  {
   "cell_type": "code",
   "execution_count": 618,
   "metadata": {
    "id": "aK_wEzx7_qRK"
   },
   "outputs": [
    {
     "name": "stdout",
     "output_type": "stream",
     "text": [
      "0.1968937875751503\n",
      "0.12474949899799599\n",
      "0.07765531062124248\n"
     ]
    }
   ],
   "source": [
    "# print(df_bar_coupons[['maritalStatus']].value_counts())\n",
    "maritalStatus_array = ['Married partner', 'Single', 'Unmarried partner', 'Divorced']\n",
    "num_bar_more_than_once_and_passengers_not_kid_not_widowed = data2.query('(Bar == \"1~3\" | Bar == \"4~8\"| Bar == \"gt8\") & (passanger in @passengar_array) & (maritalStatus in @maritalStatus_array) & Y == 1').shape[0] / data2.shape[0]\n",
    "print(num_bar_more_than_once_and_passengers_not_kid_not_widowed)\n",
    "\n",
    "num_bar_more_than_once_and_age_under_30 = data2.query('(Bar == \"1~3\" | Bar == \"4~8\"| Bar == \"gt8\") & (age == \"21\" | age == \"below21\"| age == \"26\") & Y == 1').shape[0] / data2.shape[0]\n",
    "print(num_bar_more_than_once_and_age_under_30)\n",
    "\n",
    "cheap_restaurant_array = ['4~8', 'gt8']\n",
    "salary_array = ['$25000 - $37499', '$12500 - $24999', '$37500 - $49999', 'Less than $12500']\n",
    "# print(df_bar_coupons[['RestaurantLessThan20']].value_counts())\n",
    "# print(df_bar_coupons[['income']].value_counts())\n",
    "\n",
    "num_bar_cheap_restaurants_income = data2.query('((RestaurantLessThan20 in @cheap_restaurant_array) & (income in @salary_array)) & Y == 1').shape[0] / data2.shape[0]\n",
    "print(num_bar_cheap_restaurants_income)"
   ]
  },
  {
   "cell_type": "markdown",
   "metadata": {
    "id": "v3fL3QkO_qRK"
   },
   "source": [
    "7.  Based on these observations, what do you hypothesize about drivers who accepted the bar coupons?"
   ]
  },
  {
   "cell_type": "markdown",
   "metadata": {
    "id": "Y48naDFh_qRL"
   },
   "source": [
    "- 41% of the total users chose to accept the bar coupons\n",
    "- Users who go to the bar more than 3 times were less prone to accept the bar coupons as they probably had a recurring membership\n",
    "- Users older than 25 accepted the bar coupons, as the rest of the younger generation had drinking age restrictions or were not interested in having a drink"
   ]
  },
  {
   "cell_type": "markdown",
   "metadata": {
    "id": "r4Hu1zOb_qRL"
   },
   "source": [
    "### Independent Investigation\n",
    "\n",
    "Using the bar coupon example as motivation, you are to explore one of the other coupon groups and try to determine the characteristics of passengers who accept the coupons.  "
   ]
  },
  {
   "cell_type": "code",
   "execution_count": null,
   "metadata": {
    "id": "0c71cQhu_qRL"
   },
   "outputs": [],
   "source": []
  },
  {
   "cell_type": "code",
   "execution_count": null,
   "metadata": {
    "id": "QEsBkvIN_qRL"
   },
   "outputs": [],
   "source": []
  },
  {
   "cell_type": "code",
   "execution_count": null,
   "metadata": {
    "id": "fTC2WGE3_qRL"
   },
   "outputs": [],
   "source": []
  },
  {
   "cell_type": "code",
   "execution_count": null,
   "metadata": {
    "id": "RrqUWn7d_qRL"
   },
   "outputs": [],
   "source": []
  },
  {
   "cell_type": "code",
   "execution_count": null,
   "metadata": {
    "id": "_oykf8YP_qRL"
   },
   "outputs": [],
   "source": []
  }
 ],
 "metadata": {
  "colab": {
   "provenance": []
  },
  "kernelspec": {
   "display_name": "Python [conda env:base] *",
   "language": "python",
   "name": "conda-base-py"
  },
  "language_info": {
   "codemirror_mode": {
    "name": "ipython",
    "version": 3
   },
   "file_extension": ".py",
   "mimetype": "text/x-python",
   "name": "python",
   "nbconvert_exporter": "python",
   "pygments_lexer": "ipython3",
   "version": "3.12.7"
  }
 },
 "nbformat": 4,
 "nbformat_minor": 4
}
